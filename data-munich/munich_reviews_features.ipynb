{
 "cells": [
  {
   "cell_type": "code",
   "execution_count": 1,
   "metadata": {},
   "outputs": [],
   "source": [
    "import pandas as pd\n",
    "from transformers import pipeline\n",
    "import numpy as np\n",
    "from langdetect import detect\n",
    "\n",
    "# conda/mamba install tqdm\n",
    "from tqdm import tqdm\n",
    "# to use progress bar / progress_apply() instead of apply()\n",
    "tqdm.pandas()"
   ]
  },
  {
   "cell_type": "code",
   "execution_count": 2,
   "metadata": {},
   "outputs": [],
   "source": [
    "reviews_df = pd.read_csv(\n",
    "    \"munich_reviews.csv.gz\", parse_dates=[\"date\"], index_col=\"listing_id\"\n",
    ")"
   ]
  },
  {
   "cell_type": "code",
   "execution_count": null,
   "metadata": {},
   "outputs": [],
   "source": [
    "# Language detection\n",
    "\n",
    "def detect_language(review):\n",
    "    \"\"\"\n",
    "    Identifies Language of a single Review, returns missing Value when Identification is not possible\n",
    "    \"\"\"\n",
    "\n",
    "    try:\n",
    "        language = detect(review)\n",
    "    except:\n",
    "        language = pd.NA\n",
    "    return language\n",
    "\n",
    "# SUBSECTION: Detect Languages of all Reviews\n",
    "# takes about 20 minutes on my cpu\n",
    "language = reviews_df[\"comments\"].progress_apply(detect_language)\n",
    "\n",
    "language.to_pickle(path=\"munich_review_languages.pkl\")"
   ]
  },
  {
   "cell_type": "code",
   "execution_count": 3,
   "metadata": {},
   "outputs": [],
   "source": [
    "language = pd.read_pickle(\"munich_review_languages.pkl\")"
   ]
  },
  {
   "cell_type": "code",
   "execution_count": 4,
   "metadata": {},
   "outputs": [],
   "source": [
    "reviews_df[\"language\"] = language"
   ]
  },
  {
   "cell_type": "code",
   "execution_count": 5,
   "metadata": {},
   "outputs": [
    {
     "data": {
      "text/plain": [
       "en       67439\n",
       "de       31538\n",
       "fr        2785\n",
       "es        2123\n",
       "ko        1140\n",
       "it        1039\n",
       "ru         993\n",
       "zh-cn      887\n",
       "pt         505\n",
       "nl         414\n",
       "<NA>       329\n",
       "af         277\n",
       "ca         225\n",
       "ro         219\n",
       "ja         194\n",
       "no         192\n",
       "da         190\n",
       "so         160\n",
       "zh-tw      124\n",
       "id         115\n",
       "cs          93\n",
       "pl          86\n",
       "sv          54\n",
       "hu          51\n",
       "fi          49\n",
       "tr          45\n",
       "cy          43\n",
       "vi          36\n",
       "et          35\n",
       "tl          34\n",
       "ar          27\n",
       "sk          24\n",
       "el          21\n",
       "hr          18\n",
       "sw          12\n",
       "sl          11\n",
       "uk          10\n",
       "bg           9\n",
       "he           8\n",
       "mk           5\n",
       "lt           5\n",
       "lv           5\n",
       "sq           4\n",
       "th           3\n",
       "hi           1\n",
       "ur           1\n",
       "fa           1\n",
       "Name: comments, dtype: int64"
      ]
     },
     "execution_count": 5,
     "metadata": {},
     "output_type": "execute_result"
    }
   ],
   "source": [
    "language.value_counts(dropna=False)"
   ]
  },
  {
   "cell_type": "code",
   "execution_count": 6,
   "metadata": {},
   "outputs": [
    {
     "name": "stderr",
     "output_type": "stream",
     "text": [
      "No model was supplied, defaulted to distilbert-base-uncased-finetuned-sst-2-english (https://huggingface.co/distilbert-base-uncased-finetuned-sst-2-english)\n"
     ]
    }
   ],
   "source": [
    "sentiment_analyizer = pipeline(\"sentiment-analysis\")\n",
    "sentiment_df = pd.DataFrame(\n",
    "    columns=['listing_id', 'id', 'comment', 'label', 'score', 'language']\n",
    ")"
   ]
  },
  {
   "cell_type": "code",
   "execution_count": null,
   "metadata": {},
   "outputs": [],
   "source": [
    "# decide if comment is positive or negative and save in new data frame\n",
    "n = len(reviews_df[\"comments\"])\n",
    "for i in range(n):\n",
    "    comment = reviews_df[\"comments\"].iloc[i]\n",
    "\n",
    "    try:\n",
    "        result = sentiment_analyizer(comment)[0]\n",
    "    except:\n",
    "        label = \"None\"\n",
    "        score = \"None\"\n",
    "    else:\n",
    "        label = result['label']\n",
    "        score = result['score']\n",
    "\n",
    "    new_row = {'listing_id': reviews_df[\"comments\"].index[i], 'id': reviews_df[\"id\"].iloc[i], 'comment': comment, 'label': label, 'score': score, 'language': reviews_df[\"language\"].iloc[i]}\n",
    "    sentiment_df = sentiment_df.append(new_row, ignore_index=True)\n",
    "\n",
    "    if i % 100 == 0:\n",
    "        print(i)\n",
    "\n",
    "sentiment_df = sentiment_df.set_index('listing_id')\n",
    "\n",
    "sentiment_df.to_pickle(path=\"munich_reviews_sentiment.pkl\")"
   ]
  },
  {
   "cell_type": "code",
   "execution_count": 7,
   "metadata": {},
   "outputs": [],
   "source": [
    "sentiment_df = pd.read_pickle(\"munich_reviews_sentiment.pkl\")"
   ]
  },
  {
   "cell_type": "code",
   "execution_count": 9,
   "metadata": {},
   "outputs": [],
   "source": [
    "# SUBSECTION: Drop reviews with unrecognized languages (e.g. only one character long) and add Summary Statistics\n",
    "\n",
    "language = pd.read_pickle(\"munich_review_languages.pkl\")\n",
    "\n",
    "reviews_features = pd.DataFrame(\n",
    "    data={\"language\": language, \"review_length\": reviews_df[\"comments\"].str.len(), \"sentiment\": sentiment_df[\"label\"]}\n",
    ").reset_index()\n",
    "\n",
    "reviews_features = (\n",
    "    reviews_features.dropna(subset=[\"language\"])\n",
    "    .groupby(\"listing_id\")\n",
    "    .agg(\n",
    "        number_reviews=(\"language\", lambda x: x.size),\n",
    "        median_review_length=(\"review_length\", lambda x: np.median(x)),\n",
    "        number_languages=(\"language\", lambda x: x.nunique()),\n",
    "        frac_english=(\"language\", lambda x: (x == \"en\").mean()),\n",
    "        frac_german=(\"language\", lambda x: (x == \"de\").mean()),\n",
    "        language_list=(\"language\", lambda x: x.unique()),\n",
    "        frac_negative=(\"sentiment\", lambda x: (x == \"NEGATIVE\").mean())\n",
    "    )\n",
    ")"
   ]
  },
  {
   "cell_type": "code",
   "execution_count": 10,
   "metadata": {},
   "outputs": [
    {
     "data": {
      "text/html": [
       "<div>\n",
       "<style scoped>\n",
       "    .dataframe tbody tr th:only-of-type {\n",
       "        vertical-align: middle;\n",
       "    }\n",
       "\n",
       "    .dataframe tbody tr th {\n",
       "        vertical-align: top;\n",
       "    }\n",
       "\n",
       "    .dataframe thead th {\n",
       "        text-align: right;\n",
       "    }\n",
       "</style>\n",
       "<table border=\"1\" class=\"dataframe\">\n",
       "  <thead>\n",
       "    <tr style=\"text-align: right;\">\n",
       "      <th></th>\n",
       "      <th>number_reviews</th>\n",
       "      <th>median_review_length</th>\n",
       "      <th>number_languages</th>\n",
       "      <th>frac_english</th>\n",
       "      <th>frac_german</th>\n",
       "      <th>language_list</th>\n",
       "      <th>frac_negative</th>\n",
       "    </tr>\n",
       "    <tr>\n",
       "      <th>listing_id</th>\n",
       "      <th></th>\n",
       "      <th></th>\n",
       "      <th></th>\n",
       "      <th></th>\n",
       "      <th></th>\n",
       "      <th></th>\n",
       "      <th></th>\n",
       "    </tr>\n",
       "  </thead>\n",
       "  <tbody>\n",
       "    <tr>\n",
       "      <th>97945</th>\n",
       "      <td>129</td>\n",
       "      <td>281.0</td>\n",
       "      <td>7</td>\n",
       "      <td>0.666667</td>\n",
       "      <td>0.271318</td>\n",
       "      <td>[en, fr, de, ru, it, ko, hr]</td>\n",
       "      <td>0.333333</td>\n",
       "    </tr>\n",
       "    <tr>\n",
       "      <th>114695</th>\n",
       "      <td>53</td>\n",
       "      <td>228.0</td>\n",
       "      <td>5</td>\n",
       "      <td>0.773585</td>\n",
       "      <td>0.150943</td>\n",
       "      <td>[en, de, it, fr, es]</td>\n",
       "      <td>0.226415</td>\n",
       "    </tr>\n",
       "    <tr>\n",
       "      <th>127383</th>\n",
       "      <td>101</td>\n",
       "      <td>206.0</td>\n",
       "      <td>8</td>\n",
       "      <td>0.603960</td>\n",
       "      <td>0.267327</td>\n",
       "      <td>[en, de, nl, ru, es, zh-cn, it, fr]</td>\n",
       "      <td>0.316832</td>\n",
       "    </tr>\n",
       "    <tr>\n",
       "      <th>159634</th>\n",
       "      <td>34</td>\n",
       "      <td>243.5</td>\n",
       "      <td>4</td>\n",
       "      <td>0.705882</td>\n",
       "      <td>0.235294</td>\n",
       "      <td>[en, de, ru, fr]</td>\n",
       "      <td>0.323529</td>\n",
       "    </tr>\n",
       "    <tr>\n",
       "      <th>170154</th>\n",
       "      <td>496</td>\n",
       "      <td>300.5</td>\n",
       "      <td>14</td>\n",
       "      <td>0.661290</td>\n",
       "      <td>0.205645</td>\n",
       "      <td>[en, de, es, fr, ru, nl, zh-cn, it, zh-tw, ko,...</td>\n",
       "      <td>0.280242</td>\n",
       "    </tr>\n",
       "  </tbody>\n",
       "</table>\n",
       "</div>"
      ],
      "text/plain": [
       "            number_reviews  median_review_length  number_languages  \\\n",
       "listing_id                                                           \n",
       "97945                  129                 281.0                 7   \n",
       "114695                  53                 228.0                 5   \n",
       "127383                 101                 206.0                 8   \n",
       "159634                  34                 243.5                 4   \n",
       "170154                 496                 300.5                14   \n",
       "\n",
       "            frac_english  frac_german  \\\n",
       "listing_id                              \n",
       "97945           0.666667     0.271318   \n",
       "114695          0.773585     0.150943   \n",
       "127383          0.603960     0.267327   \n",
       "159634          0.705882     0.235294   \n",
       "170154          0.661290     0.205645   \n",
       "\n",
       "                                                language_list  frac_negative  \n",
       "listing_id                                                                    \n",
       "97945                            [en, fr, de, ru, it, ko, hr]       0.333333  \n",
       "114695                                   [en, de, it, fr, es]       0.226415  \n",
       "127383                    [en, de, nl, ru, es, zh-cn, it, fr]       0.316832  \n",
       "159634                                       [en, de, ru, fr]       0.323529  \n",
       "170154      [en, de, es, fr, ru, nl, zh-cn, it, zh-tw, ko,...       0.280242  "
      ]
     },
     "execution_count": 10,
     "metadata": {},
     "output_type": "execute_result"
    }
   ],
   "source": [
    "reviews_features.head()"
   ]
  },
  {
   "cell_type": "code",
   "execution_count": 11,
   "metadata": {},
   "outputs": [],
   "source": [
    "reviews_features.to_pickle(path=\"munich_reviews_features.pkl\")"
   ]
  }
 ],
 "metadata": {
  "interpreter": {
   "hash": "542ba6efdf15187d355a36785e4550c5a6b684d183d64162d4a1ad1961860078"
  },
  "kernelspec": {
   "display_name": "Python 3.9.7",
   "language": "python",
   "name": "python3"
  },
  "language_info": {
   "codemirror_mode": {
    "name": "ipython",
    "version": 3
   },
   "file_extension": ".py",
   "mimetype": "text/x-python",
   "name": "python",
   "nbconvert_exporter": "python",
   "pygments_lexer": "ipython3",
   "version": "3.9.10"
  },
  "orig_nbformat": 4
 },
 "nbformat": 4,
 "nbformat_minor": 2
}
